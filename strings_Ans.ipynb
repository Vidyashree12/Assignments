{
 "cells": [
  {
   "cell_type": "markdown",
   "metadata": {},
   "source": [
    "# Strings - Execrise"
   ]
  },
  {
   "cell_type": "code",
   "execution_count": 2,
   "metadata": {},
   "outputs": [],
   "source": [
    "text = \"\"\"The University of Hawaii began using radio to send digital information as early as 1971,using ALOHAnet. \n",
    "Friedhelm Hillebrand conceptualised SMS in 1984 while working for Deutsche Telekom. Sitting at a typewriter at home, \n",
    "Hillebrand typed out random sentences and counted every letter, number, punctuation, and space. \n",
    "Almost every time, the messages contained fewer than 160 characters, thus giving the basis for the \n",
    "limit one could type via text messaging. With Bernard Ghillebaert of France Télécom, he developed \n",
    "a proposal for the GSM (Groupe Spécial Mobile) meeting in February 1985 in Oslo. \n",
    "The first technical solution evolved in a GSM subgroup under the leadership of Finn Trosby. \n",
    "It was further developed under the leadership of Kevin Holley and Ian Harris (see Short Message Service). \n",
    "SMS forms an integral part of SS7 (Signalling System No. 7). Under SS7, it is a \"state\" with a 160 character data, \n",
    "coded in the ITU-T \"T.56\" text format, that has a \"sequence lead in\" to determine different language codes, \n",
    "and may have special character codes that permits, for example, sending simple graphs as text. \n",
    "This was part of ISDN (Integrated Services Digital Network) and since GSM is based on this, \n",
    "made its way to the mobile phone. Messages could be sent and received on ISDN phones, \n",
    "and these can send SMS to any GSM phone. The possibility of doing something is one thing, \n",
    "implementing it another, but systems existed from 1988 that sent SMS messages to mobile phones (compare ND-NOTIS).\"\"\""
   ]
  },
  {
   "cell_type": "markdown",
   "metadata": {},
   "source": [
    "> How many characters in text"
   ]
  },
  {
   "cell_type": "markdown",
   "metadata": {},
   "source": [
    "###  `split function`\n",
    "is quite useful and usually quite generic method to get words out of the list, but this approach fails once we introduce special characters in the list."
   ]
  },
  {
   "cell_type": "code",
   "execution_count": 3,
   "metadata": {},
   "outputs": [
    {
     "data": {
      "text/plain": [
       "1507"
      ]
     },
     "execution_count": 3,
     "metadata": {},
     "output_type": "execute_result"
    }
   ],
   "source": [
    "# CODE HERE\n",
    "len(text)"
   ]
  },
  {
   "cell_type": "code",
   "execution_count": null,
   "metadata": {},
   "outputs": [],
   "source": []
  },
  {
   "cell_type": "markdown",
   "metadata": {},
   "source": [
    "> How many words are there in the \"text\""
   ]
  },
  {
   "cell_type": "code",
   "execution_count": 4,
   "metadata": {},
   "outputs": [
    {
     "data": {
      "text/plain": [
       "244"
      ]
     },
     "execution_count": 4,
     "metadata": {},
     "output_type": "execute_result"
    }
   ],
   "source": [
    "# CODE HERE\n",
    "len(text.split())"
   ]
  },
  {
   "cell_type": "code",
   "execution_count": 5,
   "metadata": {},
   "outputs": [
    {
     "name": "stdout",
     "output_type": "stream",
     "text": [
      "244\n"
     ]
    }
   ],
   "source": [
    "number_of_words=len(text.split())\n",
    "print(number_of_words)"
   ]
  },
  {
   "cell_type": "markdown",
   "metadata": {},
   "source": [
    "> How many unique words in the \"text\""
   ]
  },
  {
   "cell_type": "code",
   "execution_count": 6,
   "metadata": {},
   "outputs": [
    {
     "name": "stdout",
     "output_type": "stream",
     "text": [
      "174\n"
     ]
    }
   ],
   "source": [
    "# CODE HERE\n",
    "words=text.split()\n",
    "unique_word =set(words)\n",
    "print(len(unique_word))\n",
    "\n",
    "# single statement \n",
    "#print(len(set(text.split())))\n",
    "# I have converted  the  string to a list using split() function. Then I have converted it to a set, which will leave only unique values in the list.\n",
    "# Once i have the set, we  can print the length.  \n"
   ]
  },
  {
   "cell_type": "code",
   "execution_count": null,
   "metadata": {},
   "outputs": [],
   "source": []
  },
  {
   "cell_type": "markdown",
   "metadata": {},
   "source": [
    "> Find Lexical diversity\n",
    "\n",
    "lexical_diversity = (number of words)/(number of unique words)"
   ]
  },
  {
   "cell_type": "code",
   "execution_count": 7,
   "metadata": {},
   "outputs": [
    {
     "name": "stdout",
     "output_type": "stream",
     "text": [
      "1.4022988505747127\n"
     ]
    }
   ],
   "source": [
    "lexical_diversity=(number_of_words)/(len(unique_word))\n",
    "print(lexical_diversity)"
   ]
  },
  {
   "cell_type": "code",
   "execution_count": null,
   "metadata": {},
   "outputs": [],
   "source": []
  },
  {
   "cell_type": "markdown",
   "metadata": {},
   "source": [
    "> Count how many \"the\" in text"
   ]
  },
  {
   "cell_type": "code",
   "execution_count": 8,
   "metadata": {},
   "outputs": [
    {
     "data": {
      "text/plain": [
       "14"
      ]
     },
     "execution_count": 8,
     "metadata": {},
     "output_type": "execute_result"
    }
   ],
   "source": [
    "# CODE HERE\n",
    "text=text.lower()\n",
    "text.count(\"the\")"
   ]
  },
  {
   "cell_type": "code",
   "execution_count": 10,
   "metadata": {},
   "outputs": [
    {
     "data": {
      "text/plain": [
       "14"
      ]
     },
     "execution_count": 10,
     "metadata": {},
     "output_type": "execute_result"
    }
   ],
   "source": []
  },
  {
   "cell_type": "markdown",
   "metadata": {},
   "source": [
    "> Count how many \"a\" in text"
   ]
  },
  {
   "cell_type": "code",
   "execution_count": 9,
   "metadata": {},
   "outputs": [
    {
     "data": {
      "text/plain": [
       "92"
      ]
     },
     "execution_count": 9,
     "metadata": {},
     "output_type": "execute_result"
    }
   ],
   "source": [
    "text=text.lower()\n",
    "text.count(\"a\")"
   ]
  },
  {
   "cell_type": "markdown",
   "metadata": {},
   "source": [
    "> Extract First 10 words in text"
   ]
  },
  {
   "cell_type": "code",
   "execution_count": 29,
   "metadata": {},
   "outputs": [
    {
     "name": "stdout",
     "output_type": "stream",
     "text": [
      "The University of Hawaii began using radio to send digital\n"
     ]
    }
   ],
   "source": [
    "# CODE HERE\n",
    "words=text.split()\n",
    "\n",
    "words=words[0:10]\n",
    "x=' '.join(words)\n",
    "print(x)\n"
   ]
  },
  {
   "cell_type": "code",
   "execution_count": 13,
   "metadata": {},
   "outputs": [
    {
     "data": {
      "text/plain": [
       "'The University of Hawaii began using radio to send digital'"
      ]
     },
     "execution_count": 13,
     "metadata": {},
     "output_type": "execute_result"
    }
   ],
   "source": []
  },
  {
   "cell_type": "markdown",
   "metadata": {},
   "source": [
    "> Append \" Innomatics Technology Hub\" in first 10 words"
   ]
  },
  {
   "cell_type": "code",
   "execution_count": 40,
   "metadata": {},
   "outputs": [
    {
     "name": "stdout",
     "output_type": "stream",
     "text": [
      "The University of Hawaii began using radio to send digital Innomatics Technology Hub\n"
     ]
    }
   ],
   "source": [
    "# CODE HERE\n",
    "y=\" Innomatics Technology Hub\"\n",
    "print(x+y)\n"
   ]
  },
  {
   "cell_type": "code",
   "execution_count": 15,
   "metadata": {},
   "outputs": [
    {
     "data": {
      "text/plain": [
       "'The University of Hawaii began using radio to send digital Innomatics Technology Hub'"
      ]
     },
     "execution_count": 15,
     "metadata": {},
     "output_type": "execute_result"
    }
   ],
   "source": []
  },
  {
   "cell_type": "markdown",
   "metadata": {},
   "source": [
    "> Extract First Fourteen (14) character in text"
   ]
  },
  {
   "cell_type": "code",
   "execution_count": 43,
   "metadata": {},
   "outputs": [
    {
     "data": {
      "text/plain": [
       "'The University'"
      ]
     },
     "execution_count": 43,
     "metadata": {},
     "output_type": "execute_result"
    }
   ],
   "source": [
    "# CODE HE\n",
    "text[0:14]"
   ]
  },
  {
   "cell_type": "code",
   "execution_count": 17,
   "metadata": {},
   "outputs": [
    {
     "data": {
      "text/plain": [
       "'The University'"
      ]
     },
     "execution_count": 17,
     "metadata": {},
     "output_type": "execute_result"
    }
   ],
   "source": []
  },
  {
   "cell_type": "markdown",
   "metadata": {},
   "source": [
    "> Extract first Fourteen (14) words in text"
   ]
  },
  {
   "cell_type": "code",
   "execution_count": 51,
   "metadata": {},
   "outputs": [
    {
     "name": "stdout",
     "output_type": "stream",
     "text": [
      "The University of Hawaii began using radio to send digital information as early as\n"
     ]
    }
   ],
   "source": [
    "# CODE HERE\n",
    "words=text.split()\n",
    "\n",
    "words=words[0:14] # \n",
    "x=' ' .join(words)\n",
    "print(x)\n"
   ]
  },
  {
   "cell_type": "code",
   "execution_count": 19,
   "metadata": {},
   "outputs": [
    {
     "data": {
      "text/plain": [
       "'The University of Hawaii began using radio to send digital information as early as'"
      ]
     },
     "execution_count": 19,
     "metadata": {},
     "output_type": "execute_result"
    }
   ],
   "source": []
  },
  {
   "cell_type": "markdown",
   "metadata": {},
   "source": [
    "> Extract First 10 words in text\n",
    "- Convert every letter into ***upper*** case\n",
    "- Convert every letter into ***lower*** case"
   ]
  },
  {
   "cell_type": "code",
   "execution_count": 1,
   "metadata": {},
   "outputs": [
    {
     "ename": "NameError",
     "evalue": "name 'text' is not defined",
     "output_type": "error",
     "traceback": [
      "\u001b[1;31m---------------------------------------------------------------------------\u001b[0m",
      "\u001b[1;31mNameError\u001b[0m                                 Traceback (most recent call last)",
      "\u001b[1;32m<ipython-input-1-6e7aabf96c27>\u001b[0m in \u001b[0;36m<module>\u001b[1;34m\u001b[0m\n\u001b[0;32m      1\u001b[0m \u001b[1;31m# CODE HERE\u001b[0m\u001b[1;33m\u001b[0m\u001b[1;33m\u001b[0m\u001b[1;33m\u001b[0m\u001b[0m\n\u001b[1;32m----> 2\u001b[1;33m \u001b[0my\u001b[0m\u001b[1;33m=\u001b[0m\u001b[0mtext\u001b[0m\u001b[1;33m.\u001b[0m\u001b[0msplit\u001b[0m\u001b[1;33m(\u001b[0m\u001b[1;33m)\u001b[0m\u001b[1;33m\u001b[0m\u001b[1;33m\u001b[0m\u001b[0m\n\u001b[0m\u001b[0;32m      3\u001b[0m \u001b[0my\u001b[0m\u001b[1;33m=\u001b[0m\u001b[0my\u001b[0m\u001b[1;33m[\u001b[0m\u001b[1;36m0\u001b[0m\u001b[1;33m:\u001b[0m\u001b[1;36m10\u001b[0m\u001b[1;33m]\u001b[0m\u001b[1;33m\u001b[0m\u001b[1;33m\u001b[0m\u001b[0m\n\u001b[0;32m      4\u001b[0m \u001b[1;33m\u001b[0m\u001b[0m\n\u001b[0;32m      5\u001b[0m \u001b[1;33m\u001b[0m\u001b[0m\n",
      "\u001b[1;31mNameError\u001b[0m: name 'text' is not defined"
     ]
    }
   ],
   "source": [
    "# CODE HERE\n",
    "y=text.split()\n",
    "y=y[0:10]\n",
    "\n",
    "\n",
    "x= \" \". join(y)\n",
    "\n",
    "print(x)\n",
    "print(x.upper())\n",
    "\n"
   ]
  },
  {
   "cell_type": "code",
   "execution_count": 21,
   "metadata": {},
   "outputs": [
    {
     "data": {
      "text/plain": [
       "'THE UNIVERSITY OF HAWAII BEGAN USING RADIO TO SEND DIGITAL'"
      ]
     },
     "execution_count": 21,
     "metadata": {},
     "output_type": "execute_result"
    }
   ],
   "source": []
  },
  {
   "cell_type": "code",
   "execution_count": 68,
   "metadata": {},
   "outputs": [
    {
     "data": {
      "text/plain": [
       "'the university of hawaii began using radio to send digital'"
      ]
     },
     "execution_count": 68,
     "metadata": {},
     "output_type": "execute_result"
    }
   ],
   "source": [
    "# CODE HERE\n",
    "x.lower()"
   ]
  },
  {
   "cell_type": "code",
   "execution_count": 23,
   "metadata": {},
   "outputs": [
    {
     "data": {
      "text/plain": [
       "'the university of hawaii began using radio to send digital'"
      ]
     },
     "execution_count": 23,
     "metadata": {},
     "output_type": "execute_result"
    }
   ],
   "source": []
  },
  {
   "cell_type": "markdown",
   "metadata": {},
   "source": [
    "> Find the list of letter starting with \n",
    "- u\n",
    "- o"
   ]
  },
  {
   "cell_type": "code",
   "execution_count": 8,
   "metadata": {},
   "outputs": [
    {
     "name": "stdout",
     "output_type": "stream",
     "text": [
      "['using', 'under', 'under']\n"
     ]
    }
   ],
   "source": [
    "#2nd method\n",
    "res=[x for x in text if x.startswith('u')]\n",
    "print(res)"
   ]
  },
  {
   "cell_type": "code",
   "execution_count": 34,
   "metadata": {},
   "outputs": [
    {
     "name": "stdout",
     "output_type": "stream",
     "text": [
      "['university', 'using', 'under', 'under', 'under']\n",
      "{'using', 'university', 'under'}\n"
     ]
    }
   ],
   "source": [
    "#startswith u\n",
    "words=text.split()\n",
    "list1=[]\n",
    "for word in words:\n",
    "    #print(word.lower())\n",
    "    if (word.lower()[0]=='u'):\n",
    "        list1.append(word.lower())\n",
    "print(list1)\n",
    "print(set(list1))"
   ]
  },
  {
   "cell_type": "code",
   "execution_count": 40,
   "metadata": {},
   "outputs": [
    {
     "name": "stdout",
     "output_type": "stream",
     "text": [
      "['of', 'out', 'one', 'of', 'oslo.', 'of', 'of', 'of', 'of', 'on', 'on', 'of', 'one']\n",
      "{'oslo.', 'of', 'on', 'one', 'out'}\n"
     ]
    }
   ],
   "source": [
    "# startswith o\n",
    "words=text.split()\n",
    "list1=[]\n",
    "for word in words:\n",
    "    #print(word.lower())\n",
    "    if (word.lower()[0]=='o'):\n",
    "        list1.append(word.lower())\n",
    "print(list1)\n",
    "print(set(list1))"
   ]
  },
  {
   "cell_type": "code",
   "execution_count": 9,
   "metadata": {},
   "outputs": [
    {
     "data": {
      "text/plain": [
       "['of', 'out', 'one', 'of', 'of', 'of', 'of', 'of', 'on', 'on', 'of', 'one']"
      ]
     },
     "execution_count": 9,
     "metadata": {},
     "output_type": "execute_result"
    }
   ],
   "source": [
    "#2nd method using list comprehensive\n",
    "[x for x in text if x.startswith(\"o\")]"
   ]
  },
  {
   "cell_type": "code",
   "execution_count": 26,
   "metadata": {},
   "outputs": [
    {
     "name": "stdout",
     "output_type": "stream",
     "text": [
      "List of words staring with u is:\n",
      "{'using', 'university', 'under'}\n"
     ]
    }
   ],
   "source": []
  },
  {
   "cell_type": "code",
   "execution_count": 27,
   "metadata": {},
   "outputs": [
    {
     "name": "stdout",
     "output_type": "stream",
     "text": [
      "List of words staring with o is:\n",
      "{'out', 'of', 'one', 'on', 'oslo.'}\n"
     ]
    }
   ],
   "source": []
  },
  {
   "cell_type": "markdown",
   "metadata": {},
   "source": [
    "> Find the list of letter ending with \n",
    "- e\n",
    "- n"
   ]
  },
  {
   "cell_type": "code",
   "execution_count": 16,
   "metadata": {},
   "outputs": [
    {
     "name": "stdout",
     "output_type": "stream",
     "text": [
      "{'while', 'mobile', 'Deutsche', 'he', 'The', 'simple', 'France', 'since', '\\nmade', 'Message', 'the', 'these', '(see', 'language', 'have', '\"sequence', '(Groupe', 'determine', 'be', '\\nThe', 'one', '(compare', 'type'}\n",
      "{'Finn', 'can', 'than', 'Ian', 'information', 'an', 'began', 'solution', 'in', 'on', 'Kevin'}\n"
     ]
    }
   ],
   "source": [
    "# CODE HERE\n",
    "#2nd method\n",
    "print(set([y for y in text if y.endswith(\"e\")]))\n",
    "print(set([y for y in text if y.endswith(\"n\")]))"
   ]
  },
  {
   "cell_type": "code",
   "execution_count": 3,
   "metadata": {},
   "outputs": [
    {
     "name": "stdout",
     "output_type": "stream",
     "text": [
      "the\n",
      "university\n",
      "of\n",
      "hawaii\n",
      "began\n",
      "using\n",
      "radio\n",
      "to\n",
      "send\n",
      "digital\n",
      "information\n",
      "as\n",
      "early\n",
      "as\n",
      "1971,using\n",
      "alohanet.\n",
      "friedhelm\n",
      "hillebrand\n",
      "conceptualised\n",
      "sms\n",
      "in\n",
      "1984\n",
      "while\n",
      "working\n",
      "for\n",
      "deutsche\n",
      "telekom.\n",
      "sitting\n",
      "at\n",
      "a\n",
      "typewriter\n",
      "at\n",
      "home,\n",
      "hillebrand\n",
      "typed\n",
      "out\n",
      "random\n",
      "sentences\n",
      "and\n",
      "counted\n",
      "every\n",
      "letter,\n",
      "number,\n",
      "punctuation,\n",
      "and\n",
      "space.\n",
      "almost\n",
      "every\n",
      "time,\n",
      "the\n",
      "messages\n",
      "contained\n",
      "fewer\n",
      "than\n",
      "160\n",
      "characters,\n",
      "thus\n",
      "giving\n",
      "the\n",
      "basis\n",
      "for\n",
      "the\n",
      "limit\n",
      "one\n",
      "could\n",
      "type\n",
      "via\n",
      "text\n",
      "messaging.\n",
      "with\n",
      "bernard\n",
      "ghillebaert\n",
      "of\n",
      "france\n",
      "télécom,\n",
      "he\n",
      "developed\n",
      "a\n",
      "proposal\n",
      "for\n",
      "the\n",
      "gsm\n",
      "(groupe\n",
      "spécial\n",
      "mobile)\n",
      "meeting\n",
      "in\n",
      "february\n",
      "1985\n",
      "in\n",
      "oslo.\n",
      "the\n",
      "first\n",
      "technical\n",
      "solution\n",
      "evolved\n",
      "in\n",
      "a\n",
      "gsm\n",
      "subgroup\n",
      "under\n",
      "the\n",
      "leadership\n",
      "of\n",
      "finn\n",
      "trosby.\n",
      "it\n",
      "was\n",
      "further\n",
      "developed\n",
      "under\n",
      "the\n",
      "leadership\n",
      "of\n",
      "kevin\n",
      "holley\n",
      "and\n",
      "ian\n",
      "harris\n",
      "(see\n",
      "short\n",
      "message\n",
      "service).\n",
      "sms\n",
      "forms\n",
      "an\n",
      "integral\n",
      "part\n",
      "of\n",
      "ss7\n",
      "(signalling\n",
      "system\n",
      "no.\n",
      "7).\n",
      "under\n",
      "ss7,\n",
      "it\n",
      "is\n",
      "a\n",
      "\"state\"\n",
      "with\n",
      "a\n",
      "160\n",
      "character\n",
      "data,\n",
      "coded\n",
      "in\n",
      "the\n",
      "itu-t\n",
      "\"t.56\"\n",
      "text\n",
      "format,\n",
      "that\n",
      "has\n",
      "a\n",
      "\"sequence\n",
      "lead\n",
      "in\"\n",
      "to\n",
      "determine\n",
      "different\n",
      "language\n",
      "codes,\n",
      "and\n",
      "may\n",
      "have\n",
      "special\n",
      "character\n",
      "codes\n",
      "that\n",
      "permits,\n",
      "for\n",
      "example,\n",
      "sending\n",
      "simple\n",
      "graphs\n",
      "as\n",
      "text.\n",
      "this\n",
      "was\n",
      "part\n",
      "of\n",
      "isdn\n",
      "(integrated\n",
      "services\n",
      "digital\n",
      "network)\n",
      "and\n",
      "since\n",
      "gsm\n",
      "is\n",
      "based\n",
      "on\n",
      "this,\n",
      "made\n",
      "its\n",
      "way\n",
      "to\n",
      "the\n",
      "mobile\n",
      "phone.\n",
      "messages\n",
      "could\n",
      "be\n",
      "sent\n",
      "and\n",
      "received\n",
      "on\n",
      "isdn\n",
      "phones,\n",
      "and\n",
      "these\n",
      "can\n",
      "send\n",
      "sms\n",
      "to\n",
      "any\n",
      "gsm\n",
      "phone.\n",
      "the\n",
      "possibility\n",
      "of\n",
      "doing\n",
      "something\n",
      "is\n",
      "one\n",
      "thing,\n",
      "implementing\n",
      "it\n",
      "another,\n",
      "but\n",
      "systems\n",
      "existed\n",
      "from\n",
      "1988\n",
      "that\n",
      "sent\n",
      "sms\n",
      "messages\n",
      "to\n",
      "mobile\n",
      "phones\n",
      "(compare\n",
      "nd-notis).\n",
      "{'\"sequence', 'be', 'he', 'type', 'simple', 'france', 'have', '(compare', 'mobile', 'deutsche', '(groupe', '(see', 'message', 'determine', 'while', 'language', 'these', 'one', 'since', 'the', 'made'}\n"
     ]
    }
   ],
   "source": [
    "# ends with e\n",
    "words=text.split()\n",
    "list1=[]\n",
    "for word in words:\n",
    "    print(word.lower())\n",
    "    if (word.lower()[-1]=='e'):\n",
    "        list1.append(word.lower())\n",
    "\n",
    "print(set(list1))"
   ]
  },
  {
   "cell_type": "code",
   "execution_count": 43,
   "metadata": {},
   "outputs": [
    {
     "name": "stdout",
     "output_type": "stream",
     "text": [
      "{'can', 'in', 'ian', 'isdn', 'finn', 'began', 'an', 'on', 'kevin', 'solution', 'information', 'than'}\n"
     ]
    }
   ],
   "source": [
    "# endswith n\n",
    "\n",
    "words=text.split()\n",
    "list1=[]\n",
    "for word in words:\n",
    "    #print(word.lower())\n",
    "    if (word.lower()[-1]=='n'):\n",
    "        list1.append(word.lower())\n",
    "\n",
    "print(set(list1))"
   ]
  },
  {
   "cell_type": "code",
   "execution_count": 30,
   "metadata": {},
   "outputs": [
    {
     "name": "stdout",
     "output_type": "stream",
     "text": [
      "List of words ends with e is:\n",
      "{'be', 'these', 'deutsche', 'one', 'made', 'he', 'message', 'type', 'mobile', '(compare', 'france', 'determine', '(see', 'have', '(groupe', 'while', 'since', '\"sequence', 'simple', 'language', 'the'}\n"
     ]
    }
   ],
   "source": []
  },
  {
   "cell_type": "code",
   "execution_count": 31,
   "metadata": {},
   "outputs": [
    {
     "name": "stdout",
     "output_type": "stream",
     "text": [
      "List of words ends with n is:\n",
      "{'kevin', 'than', 'in', 'ian', 'an', 'solution', 'finn', 'on', 'can', 'information', 'isdn', 'began'}\n"
     ]
    }
   ],
   "source": []
  },
  {
   "cell_type": "markdown",
   "metadata": {},
   "source": [
    "> Extract first 10 words of text and Capitalize first letter of each word"
   ]
  },
  {
   "cell_type": "code",
   "execution_count": 39,
   "metadata": {},
   "outputs": [
    {
     "data": {
      "text/plain": [
       "'The University Of Hawaii Began Using Radio To Send Digital'"
      ]
     },
     "execution_count": 39,
     "metadata": {},
     "output_type": "execute_result"
    }
   ],
   "source": [
    "# CODE HERE\n",
    "x.title()"
   ]
  },
  {
   "cell_type": "code",
   "execution_count": 33,
   "metadata": {},
   "outputs": [
    {
     "data": {
      "text/plain": [
       "'The University Of Hawaii Began Using Radio To Send Digital'"
      ]
     },
     "execution_count": 33,
     "metadata": {},
     "output_type": "execute_result"
    }
   ],
   "source": []
  },
  {
   "cell_type": "markdown",
   "metadata": {},
   "source": [
    "> Replace the word \"University\" with name \"Innomatics\" in text"
   ]
  },
  {
   "cell_type": "code",
   "execution_count": 34,
   "metadata": {},
   "outputs": [],
   "source": [
    "# CODE HERE"
   ]
  },
  {
   "cell_type": "code",
   "execution_count": 82,
   "metadata": {
    "scrolled": false
   },
   "outputs": [
    {
     "name": "stdout",
     "output_type": "stream",
     "text": [
      "The Innomatics of Hawaii began using radio to send digital information as early as 1971,using ALOHAnet. \n",
      "Friedhelm Hillebrand conceptualised SMS in 1984 while working for Deutsche Telekom. Sitting at a typewriter at home, \n",
      "Hillebrand typed out random sentences and counted every letter, number, punctuation, and space. \n",
      "Almost every time, the messages contained fewer than 160 characters, thus giving the basis for the \n",
      "limit one could type via text messaging. With Bernard Ghillebaert of France Télécom, he developed \n",
      "a proposal for the GSM (Groupe Spécial Mobile) meeting in February 1985 in Oslo. \n",
      "The first technical solution evolved in a GSM subgroup under the leadership of Finn Trosby. \n",
      "It was further developed under the leadership of Kevin Holley and Ian Harris (see Short Message Service). \n",
      "SMS forms an integral part of SS7 (Signalling System No. 7). Under SS7, it is a \"state\" with a 160 character data, \n",
      "coded in the ITU-T \"T.56\" text format, that has a \"sequence lead in\" to determine different language codes, \n",
      "and may have special character codes that permits, for example, sending simple graphs as text. \n",
      "This was part of ISDN (Integrated Services Digital Network) and since GSM is based on this, \n",
      "made its way to the mobile phone. Messages could be sent and received on ISDN phones, \n",
      "and these can send SMS to any GSM phone. The possibility of doing something is one thing, \n",
      "implementing it another, but systems existed from 1988 that sent SMS messages to mobile phones (compare ND-NOTIS).\n"
     ]
    }
   ],
   "source": [
    "v=text.replace(\"University\",\"Innomatics\")\n",
    "print(v)"
   ]
  },
  {
   "cell_type": "markdown",
   "metadata": {},
   "source": [
    "## Convert the \"text\" into sentances and store that into sentance"
   ]
  },
  {
   "cell_type": "code",
   "execution_count": 14,
   "metadata": {},
   "outputs": [
    {
     "data": {
      "text/plain": [
       "['The University of Hawaii began using radio to send digital information as early as 1971,using ALOHAnet',\n",
       " ' \\nFriedhelm Hillebrand conceptualised SMS in 1984 while working for Deutsche Telekom',\n",
       " ' Sitting at a typewriter at home, \\nHillebrand typed out random sentences and counted every letter, number, punctuation, and space',\n",
       " ' \\nAlmost every time, the messages contained fewer than 160 characters, thus giving the basis for the \\nlimit one could type via text messaging',\n",
       " ' With Bernard Ghillebaert of France Télécom, he developed \\na proposal for the GSM (Groupe Spécial Mobile) meeting in February 1985 in Oslo',\n",
       " ' \\nThe first technical solution evolved in a GSM subgroup under the leadership of Finn Trosby',\n",
       " ' \\nIt was further developed under the leadership of Kevin Holley and Ian Harris (see Short Message Service)',\n",
       " ' \\nSMS forms an integral part of SS7 (Signalling System No',\n",
       " ' 7)',\n",
       " ' Under SS7, it is a \"state\" with a 160 character data, \\ncoded in the ITU-T \"T',\n",
       " '56\" text format, that has a \"sequence lead in\" to determine different language codes, \\nand may have special character codes that permits, for example, sending simple graphs as text',\n",
       " ' \\nThis was part of ISDN (Integrated Services Digital Network) and since GSM is based on this, \\nmade its way to the mobile phone',\n",
       " ' Messages could be sent and received on ISDN phones, \\nand these can send SMS to any GSM phone',\n",
       " ' The possibility of doing something is one thing, \\nimplementing it another, but systems existed from 1988 that sent SMS messages to mobile phones (compare ND-NOTIS)',\n",
       " '']"
      ]
     },
     "execution_count": 14,
     "metadata": {},
     "output_type": "execute_result"
    }
   ],
   "source": [
    "# CODE HERE\n",
    "sentence=text.split(\".\")\n",
    "sentence"
   ]
  },
  {
   "cell_type": "code",
   "execution_count": null,
   "metadata": {},
   "outputs": [],
   "source": []
  },
  {
   "cell_type": "markdown",
   "metadata": {},
   "source": [
    "### 1.From the above sentance remove '\\n'\n",
    "### 2. From the above sentace print the first word from each sentance\n",
    "### 3. From the above sentace print even posioned sentances"
   ]
  },
  {
   "cell_type": "code",
   "execution_count": 36,
   "metadata": {},
   "outputs": [],
   "source": [
    "sentence=text.split('\\n')"
   ]
  },
  {
   "cell_type": "code",
   "execution_count": 37,
   "metadata": {
    "scrolled": true
   },
   "outputs": [
    {
     "data": {
      "text/plain": [
       "['The University of Hawaii began using radio to send digital information as early as 1971,using ALOHAnet. ',\n",
       " 'Hillebrand typed out random sentences and counted every letter, number, punctuation, and space. ',\n",
       " 'limit one could type via text messaging. With Bernard Ghillebaert of France Télécom, he developed ',\n",
       " 'The first technical solution evolved in a GSM subgroup under the leadership of Finn Trosby. ',\n",
       " 'SMS forms an integral part of SS7 (Signalling System No. 7). Under SS7, it is a \"state\" with a 160 character data, ',\n",
       " 'and may have special character codes that permits, for example, sending simple graphs as text. ',\n",
       " 'made its way to the mobile phone. Messages could be sent and received on ISDN phones, ',\n",
       " 'implementing it another, but systems existed from 1988 that sent SMS messages to mobile phones (compare ND-NOTIS).']"
      ]
     },
     "execution_count": 37,
     "metadata": {},
     "output_type": "execute_result"
    }
   ],
   "source": [
    "sentence[::2]"
   ]
  },
  {
   "cell_type": "code",
   "execution_count": 38,
   "metadata": {},
   "outputs": [
    {
     "name": "stdout",
     "output_type": "stream",
     "text": [
      "The\n",
      "Friedhelm\n",
      "Hillebrand\n",
      "Almost\n",
      "limit\n",
      "a\n",
      "The\n",
      "It\n",
      "SMS\n",
      "coded\n",
      "and\n",
      "This\n",
      "made\n",
      "and\n",
      "implementing\n"
     ]
    }
   ],
   "source": [
    "for i in sentence:\n",
    "    print(i.split()[0])\n"
   ]
  },
  {
   "cell_type": "code",
   "execution_count": 26,
   "metadata": {},
   "outputs": [
    {
     "name": "stdout",
     "output_type": "stream",
     "text": [
      "Compile With Favtutor\n"
     ]
    }
   ],
   "source": []
  },
  {
   "cell_type": "code",
   "execution_count": null,
   "metadata": {},
   "outputs": [],
   "source": []
  },
  {
   "cell_type": "code",
   "execution_count": 22,
   "metadata": {},
   "outputs": [
    {
     "ename": "AttributeError",
     "evalue": "'list' object has no attribute 'strip'",
     "output_type": "error",
     "traceback": [
      "\u001b[1;31m---------------------------------------------------------------------------\u001b[0m",
      "\u001b[1;31mAttributeError\u001b[0m                            Traceback (most recent call last)",
      "\u001b[1;32m<ipython-input-22-4389f32ffff3>\u001b[0m in \u001b[0;36m<module>\u001b[1;34m\u001b[0m\n\u001b[1;32m----> 1\u001b[1;33m \u001b[0mstr1\u001b[0m\u001b[1;33m=\u001b[0m\u001b[0msentance\u001b[0m\u001b[1;33m.\u001b[0m\u001b[0mstrip\u001b[0m\u001b[1;33m(\u001b[0m\u001b[1;33m)\u001b[0m\u001b[1;33m\u001b[0m\u001b[1;33m\u001b[0m\u001b[0m\n\u001b[0m\u001b[0;32m      2\u001b[0m \u001b[0mprint\u001b[0m\u001b[1;33m(\u001b[0m\u001b[0mstr1\u001b[0m\u001b[1;33m)\u001b[0m\u001b[1;33m\u001b[0m\u001b[1;33m\u001b[0m\u001b[0m\n",
      "\u001b[1;31mAttributeError\u001b[0m: 'list' object has no attribute 'strip'"
     ]
    }
   ],
   "source": []
  },
  {
   "cell_type": "code",
   "execution_count": null,
   "metadata": {},
   "outputs": [],
   "source": []
  },
  {
   "cell_type": "markdown",
   "metadata": {},
   "source": [
    "### If the following string is given as input to the program:\n",
    "\n",
    "- H1e2l3l4o5w6o7r8l9d\n",
    "\n",
    "### Then, the output of the program should be:\n",
    "\n",
    "- Helloworld"
   ]
  },
  {
   "cell_type": "code",
   "execution_count": 20,
   "metadata": {},
   "outputs": [
    {
     "name": "stdout",
     "output_type": "stream",
     "text": [
      "Helloworld\n"
     ]
    }
   ],
   "source": [
    "string = \"H1e2l3l4o5w6o7r8l9d\"\n",
    "new_str = []\n",
    "for i in string:\n",
    "    if i.isalpha():\n",
    "        new_str.append(i)\n",
    "final = \"\".join(new_str)\n",
    "print(final)"
   ]
  },
  {
   "cell_type": "code",
   "execution_count": 5,
   "metadata": {},
   "outputs": [
    {
     "name": "stdout",
     "output_type": "stream",
     "text": [
      "Helloworld\n"
     ]
    }
   ],
   "source": [
    "# CODE HERE\n",
    "a=print(input(enter the string:))\n",
    "b = ''.join([i for i in a if not i.isdigit()])\n",
    "print(b)\n"
   ]
  },
  {
   "cell_type": "code",
   "execution_count": null,
   "metadata": {},
   "outputs": [],
   "source": []
  },
  {
   "cell_type": "markdown",
   "metadata": {},
   "source": [
    "# [Innomatics Research Labs](https:/innomatics.in/)\n",
    "[www.innomatics.in](https:/innomatics.in/)"
   ]
  },
  {
   "cell_type": "markdown",
   "metadata": {},
   "source": [
    "### Name: Vidyashree Nayak\n",
    "### Batch:129\n"
   ]
  },
  {
   "cell_type": "code",
   "execution_count": 24,
   "metadata": {},
   "outputs": [
    {
     "data": {
      "text/plain": [
       "'3\\\\'"
      ]
     },
     "execution_count": 24,
     "metadata": {},
     "output_type": "execute_result"
    }
   ],
   "source": []
  }
 ],
 "metadata": {
  "kernelspec": {
   "display_name": "Python 3",
   "language": "python",
   "name": "python3"
  },
  "language_info": {
   "codemirror_mode": {
    "name": "ipython",
    "version": 3
   },
   "file_extension": ".py",
   "mimetype": "text/x-python",
   "name": "python",
   "nbconvert_exporter": "python",
   "pygments_lexer": "ipython3",
   "version": "3.8.8"
  }
 },
 "nbformat": 4,
 "nbformat_minor": 2
}
